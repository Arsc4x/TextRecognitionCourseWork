{
 "cells": [
  {
   "cell_type": "markdown",
   "id": "cc7664e4-7b0a-4866-98c7-e71dd0683878",
   "metadata": {},
   "source": [
    "# Split original train set into new train and validation set and convert .tsv to .csv"
   ]
  },
  {
   "cell_type": "code",
   "execution_count": 1,
   "id": "f0f34eb5-4f17-4694-bdbf-f0b1d4996278",
   "metadata": {},
   "outputs": [],
   "source": [
    "# Import packages\n",
    "import pandas as pd\n",
    "\n",
    "import os\n",
    "import shutil\n",
    "import random\n",
    "import tqdm\n",
    "\n",
    "from sklearn.model_selection import train_test_split"
   ]
  },
  {
   "cell_type": "markdown",
   "id": "cee7c16b-0886-4ef7-a879-a5849a6a98b3",
   "metadata": {},
   "source": [
    "## Train split"
   ]
  },
  {
   "cell_type": "code",
   "execution_count": null,
   "id": "e7820073-a5f1-40fc-a76a-2e6d44fd2498",
   "metadata": {},
   "outputs": [],
   "source": [
    "work_dir_path = './'"
   ]
  },
  {
   "cell_type": "code",
   "execution_count": 2,
   "id": "81f8c4be-89bd-4aa6-b04d-ff74ec81dd1e",
   "metadata": {},
   "outputs": [],
   "source": [
    "# Data paths\n",
    "train_images_path = f'{work_dir_path}data/orginal_set/train/'\n",
    "train_labels_path = f'{work_dir_path}data/orginal_set/train.tsv'\n",
    "\n",
    "val_images_path = f'{work_dir_path}data/train_val_split_csv/val/'\n",
    "val_labels_path = f'{work_dir_path}data/train_val_split_csv/val.csv'\n",
    "\n",
    "new_train_images_path = f'{work_dir_path}data/train_val_split_csv/train/'\n",
    "new_train_labels_path = f'{work_dir_path}data/train_val_split_csv/train.csv'"
   ]
  },
  {
   "cell_type": "code",
   "execution_count": 5,
   "id": "278bc399-9a00-4e75-a700-db8110a6acfa",
   "metadata": {},
   "outputs": [],
   "source": [
    "# Set seed \n",
    "random.seed(1234)"
   ]
  },
  {
   "cell_type": "code",
   "execution_count": 6,
   "id": "b6700bb3-2f7c-4611-b71e-efb12a29b0b4",
   "metadata": {},
   "outputs": [],
   "source": [
    "# Read orgiginal train labels tsv file\n",
    "df = pd.read_csv(train_labels_path, sep='\\t', header=None, names=['image', 'label'])"
   ]
  },
  {
   "cell_type": "code",
   "execution_count": 7,
   "id": "2c9ebcc9-d286-46e6-9382-9fe65ae24962",
   "metadata": {},
   "outputs": [
    {
     "data": {
      "text/html": [
       "<div>\n",
       "<style scoped>\n",
       "    .dataframe tbody tr th:only-of-type {\n",
       "        vertical-align: middle;\n",
       "    }\n",
       "\n",
       "    .dataframe tbody tr th {\n",
       "        vertical-align: top;\n",
       "    }\n",
       "\n",
       "    .dataframe thead th {\n",
       "        text-align: right;\n",
       "    }\n",
       "</style>\n",
       "<table border=\"1\" class=\"dataframe\">\n",
       "  <thead>\n",
       "    <tr style=\"text-align: right;\">\n",
       "      <th></th>\n",
       "      <th>image</th>\n",
       "      <th>label</th>\n",
       "    </tr>\n",
       "  </thead>\n",
       "  <tbody>\n",
       "    <tr>\n",
       "      <th>0</th>\n",
       "      <td>aa1.png</td>\n",
       "      <td>Молдова</td>\n",
       "    </tr>\n",
       "    <tr>\n",
       "      <th>1</th>\n",
       "      <td>aa1007.png</td>\n",
       "      <td>продолжила борьбу</td>\n",
       "    </tr>\n",
       "    <tr>\n",
       "      <th>2</th>\n",
       "      <td>aa101.png</td>\n",
       "      <td>разработанные</td>\n",
       "    </tr>\n",
       "    <tr>\n",
       "      <th>3</th>\n",
       "      <td>aa1012.png</td>\n",
       "      <td>Плачи</td>\n",
       "    </tr>\n",
       "    <tr>\n",
       "      <th>4</th>\n",
       "      <td>aa1013.png</td>\n",
       "      <td>Гимны богам</td>\n",
       "    </tr>\n",
       "  </tbody>\n",
       "</table>\n",
       "</div>"
      ],
      "text/plain": [
       "        image              label\n",
       "0     aa1.png            Молдова\n",
       "1  aa1007.png  продолжила борьбу\n",
       "2   aa101.png      разработанные\n",
       "3  aa1012.png              Плачи\n",
       "4  aa1013.png        Гимны богам"
      ]
     },
     "execution_count": 7,
     "metadata": {},
     "output_type": "execute_result"
    }
   ],
   "source": [
    "df.head()"
   ]
  },
  {
   "cell_type": "code",
   "execution_count": 16,
   "id": "e43cf2a5-b851-4a7e-af0c-8f112c091923",
   "metadata": {},
   "outputs": [
    {
     "data": {
      "text/plain": [
       "(72286, 2)"
      ]
     },
     "execution_count": 16,
     "metadata": {},
     "output_type": "execute_result"
    }
   ],
   "source": [
    "print(f'Original train set size is {df.shape}')"
   ]
  },
  {
   "cell_type": "code",
   "execution_count": null,
   "id": "33000a6b-23f7-4d80-938d-c208591e19fc",
   "metadata": {},
   "outputs": [],
   "source": [
    "# Use 2.2% of data for validation\n",
    "p = 0.022"
   ]
  },
  {
   "cell_type": "code",
   "execution_count": 18,
   "id": "969d5479-bf43-4aa8-9677-ac8894e9b52d",
   "metadata": {},
   "outputs": [],
   "source": [
    "train_df, val_df = train_test_split(df, test_size=p, random_state=1234)"
   ]
  },
  {
   "cell_type": "code",
   "execution_count": 19,
   "id": "24ea3a83-10e9-4398-a448-5bb9de4f76c0",
   "metadata": {},
   "outputs": [
    {
     "data": {
      "text/plain": [
       "(1591, 2)"
      ]
     },
     "execution_count": 19,
     "metadata": {},
     "output_type": "execute_result"
    }
   ],
   "source": [
    "print(f'New validation set size is {train_df.shape}')\n",
    "print(f'New validation set size is {val_df.shape}')"
   ]
  },
  {
   "cell_type": "code",
   "execution_count": 22,
   "id": "e6563139-2068-4abe-bd2c-583c9ac0841f",
   "metadata": {},
   "outputs": [
    {
     "name": "stderr",
     "output_type": "stream",
     "text": [
      "70695it [03:29, 337.93it/s]\n",
      "1591it [00:04, 358.50it/s]\n"
     ]
    }
   ],
   "source": [
    "# Iterate through each row of the new train dataframe\n",
    "for index, row in tqdm.tqdm(train_df.iterrows()):\n",
    "\n",
    "    # Get the image name from the current row\n",
    "    image_name = row['image']  \n",
    "\n",
    "    # Construct the full source path \n",
    "    src = os.path.join(train_images_path, image_name)\n",
    "\n",
    "    # Construct the full destination path\n",
    "    dst = os.path.join(new_train_images_path, image_name)\n",
    "\n",
    "    # Copy the image file from source to destination\n",
    "    shutil.copy(src, dst)\n",
    "\n",
    "# Iterate through each row of the validation dataframe  \n",
    "for index, row in tqdm.tqdm(val_df.iterrows()):\n",
    "\n",
    "    # Get the image name from the current row\n",
    "    image_name = row['image']\n",
    "\n",
    "    # Construct the full source path\n",
    "    src = os.path.join(train_images_path, image_name)\n",
    "\n",
    "    # Construct the full destination path \n",
    "    dst = os.path.join(val_images_path, image_name)\n",
    "\n",
    "    # Copy the image file from source to destination\n",
    "    shutil.copy(src, dst)"
   ]
  },
  {
   "cell_type": "code",
   "execution_count": 25,
   "id": "136d111d-cff4-4d28-888e-4ad5cb9d3feb",
   "metadata": {},
   "outputs": [],
   "source": [
    "# Save new files as .csv\n",
    "train_df.to_csv(new_train_labels_path, index=False)\n",
    "val_df.to_csv(val_labels_path, index=False)"
   ]
  },
  {
   "cell_type": "markdown",
   "id": "c5f0400c-2951-4b89-ade5-a0ed32daa9bc",
   "metadata": {},
   "source": [
    "## Convert test label file to .csv"
   ]
  },
  {
   "cell_type": "code",
   "execution_count": 34,
   "id": "da1ccd6f-a39f-485b-bf16-f0f2740e504a",
   "metadata": {},
   "outputs": [],
   "source": [
    "# Test data paths\n",
    "test_labels_path = './data/orginal_set/test.tsv'\n",
    "new_test_labels_path = './data/train_val_split_csv/test.csv'"
   ]
  },
  {
   "cell_type": "code",
   "execution_count": 29,
   "id": "0f532ab9-3eb6-48cf-aa04-44e62850b7b7",
   "metadata": {},
   "outputs": [],
   "source": [
    "# Read file\n",
    "test_df = pd.read_csv(test_labels_path, sep='\\t', header=None, names=['image', 'label'])"
   ]
  },
  {
   "cell_type": "code",
   "execution_count": null,
   "id": "d5f938bf-4d4b-412c-bbb9-d1f1ed960b18",
   "metadata": {},
   "outputs": [],
   "source": [
    "print(f'Test set size is {test_df.shape}')"
   ]
  },
  {
   "cell_type": "code",
   "execution_count": 33,
   "id": "43bae9ae-872e-4721-874b-0cac38be8a4b",
   "metadata": {},
   "outputs": [],
   "source": [
    "# Save it as .csv\n",
    "test_df.to_csv(new_test_labels_path, index=False)"
   ]
  }
 ],
 "metadata": {
  "kernelspec": {
   "display_name": "DAvenv",
   "language": "python",
   "name": "davenv"
  },
  "language_info": {
   "codemirror_mode": {
    "name": "ipython",
    "version": 3
   },
   "file_extension": ".py",
   "mimetype": "text/x-python",
   "name": "python",
   "nbconvert_exporter": "python",
   "pygments_lexer": "ipython3",
   "version": "3.12.1"
  }
 },
 "nbformat": 4,
 "nbformat_minor": 5
}
