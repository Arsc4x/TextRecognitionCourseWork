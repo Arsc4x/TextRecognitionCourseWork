{
 "cells": [
  {
   "cell_type": "markdown",
   "id": "545310a6-8df9-4167-b9b1-17bd6275bbcb",
   "metadata": {},
   "source": [
    "# Creates small (p=10%) train subset"
   ]
  },
  {
   "cell_type": "code",
   "execution_count": 25,
   "id": "bd1bdde0-fe34-4b5b-81a2-4fab931d5814",
   "metadata": {},
   "outputs": [],
   "source": [
    "# Import packages\n",
    "import os\n",
    "import shutil\n",
    "import random\n",
    "import tqdm"
   ]
  },
  {
   "cell_type": "code",
   "execution_count": null,
   "id": "68b621a1-f227-4b31-af2d-d62584b43e47",
   "metadata": {},
   "outputs": [],
   "source": [
    "work_dir_path = './'"
   ]
  },
  {
   "cell_type": "code",
   "execution_count": 26,
   "id": "8c51f606-b6d3-4821-a842-cabbb81f5e79",
   "metadata": {},
   "outputs": [],
   "source": [
    "# Data paths\n",
    "train_images_path = f'{work_dir_path}data/train_val_split_csv/train/'\n",
    "train_labels_path = f'./data/train_val_split_csv/train.csv'\n",
    "\n",
    "new_images_path = f'{work_dir_path}data/train_val_split_csv/train10/'\n",
    "new_labels_path = f'{work_dir_path}data/train_val_split_csv/train10.csv'"
   ]
  },
  {
   "cell_type": "code",
   "execution_count": 28,
   "id": "21dd9fa9-7f75-41c3-bd5c-cd8c79e21852",
   "metadata": {},
   "outputs": [],
   "source": [
    "# Set seed \n",
    "random.seed(1234)"
   ]
  },
  {
   "cell_type": "code",
   "execution_count": null,
   "id": "d17cfb8c-0a94-4edc-80f6-b2912b171b58",
   "metadata": {},
   "outputs": [],
   "source": [
    "# Copy only 10% of train data (randomly)\n",
    "p = 0.1"
   ]
  },
  {
   "cell_type": "code",
   "execution_count": 29,
   "id": "190e53a3-d8ca-48af-b45b-337c0f5c7afd",
   "metadata": {},
   "outputs": [
    {
     "name": "stderr",
     "output_type": "stream",
     "text": [
      "100%|█████████████████████████████████████████████████████████████████████████████| 7069/7069 [00:10<00:00, 660.99it/s]\n"
     ]
    }
   ],
   "source": [
    "# Check if the new directory for images exists, if not create it\n",
    "if not os.path.exists(new_images_path):\n",
    "    os.makedirs(new_images_path)\n",
    "\n",
    "# Open the original labels file and the new labels file for reading and writing, respectively\n",
    "with open(train_labels_path, encoding='utf-8') as f_in, open(new_labels_path, 'w', encoding='utf-8') as f_out:\n",
    "    # Read all lines from the original labels file\n",
    "    lines = f_in.readlines()\n",
    "\n",
    "    # Write the first line (header) to the new labels file\n",
    "    f_out.write(lines[0])\n",
    "\n",
    "    # Remove the first line (header) from the list of lines and add a newline character to the last line\n",
    "    lines = lines[1:]\n",
    "    lines[-1] = lines[-1] + '\\n'\n",
    "\n",
    "    # Shuffle the lines to randomize the order\n",
    "    random.shuffle(lines)\n",
    "\n",
    "    # Get the total number of lines (excluding the header)\n",
    "    num_lines = len(lines)\n",
    "\n",
    "    # Calculate the number of lines to copy based on the percentage p\n",
    "    num_to_copy = int(num_lines * p)\n",
    "\n",
    "    # Iterate over the number of lines to copy\n",
    "    for i in tqdm.tqdm(range(num_to_copy)):\n",
    "        # Get the current line\n",
    "        line = lines[i]\n",
    "\n",
    "        # Try to split the line into image name and label\n",
    "        try:\n",
    "            image_name, label = line.split(sep=',', maxsplit=1)\n",
    "        except:\n",
    "            # If the line cannot be split, print the line and continue to the next iteration\n",
    "            print(line)\n",
    "            continue\n",
    "\n",
    "        # Copy the image from the original directory to the new directory\n",
    "        shutil.copy(os.path.join(train_images_path, image_name), \n",
    "                    os.path.join(new_images_path, image_name))\n",
    "\n",
    "        # Write the line to the new labels file\n",
    "        f_out.write(line)"
   ]
  }
 ],
 "metadata": {
  "kernelspec": {
   "display_name": "DAvenv",
   "language": "python",
   "name": "davenv"
  },
  "language_info": {
   "codemirror_mode": {
    "name": "ipython",
    "version": 3
   },
   "file_extension": ".py",
   "mimetype": "text/x-python",
   "name": "python",
   "nbconvert_exporter": "python",
   "pygments_lexer": "ipython3",
   "version": "3.12.1"
  }
 },
 "nbformat": 4,
 "nbformat_minor": 5
}
